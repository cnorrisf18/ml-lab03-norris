{
 "cells": [
  {
   "cell_type": "markdown",
   "metadata": {},
   "source": [
    "# Logistic Regression\n",
    "## With intro to Pandas and Graphing\n",
    "## Part 2\n",
    "\n",
    "\n",
    "Reacall:\n",
    "\n",
    "Steps we have Done:\n",
    "* Collect the data\n",
    "* Clean the data by:\n",
    "* _ removing unnecsessary features\n",
    "* _ Filling in any missing values\n",
    "* _ Filtering for bad / out of range outliers and correcting or removing them\n",
    "* _ Mapping the features so that increasing the feature linearly increases or decreases the likelihood of a positive result. Add a square term feature is a simple approach, but not a linear one.  Ng doesn't mention this in Coursera.  \n",
    "* _ Making numbers out of any text or discrete values, possibly with *one hot* approach\n",
    "* _ Check the data for cross-correlation - are any of the features too dependent on one another?  If so, remove a feature.\n",
    "* Normalize the data (skipped)\n",
    "\n",
    "Steps still to do:\n",
    "\n",
    "* Separate the data into at least two data sets:  training, and test.  \n",
    "* _ the test set is used to measure the progress of the learning algorithm, to measure overfitting (variance - model is too complex and its plotted surface wobbles a lot to overfit the data) and underfitting (bias - model is too simple).  \n",
    "* _ If you have parameters to tune, such as the learning rate or regularization parameters, you'll need to also generate a *validation* set to use to tune those parameters before applying the test set.\n",
    "* Train the model\n",
    "* Apply the model\n",
    "* Analyze the results!\n",
    "\n"
   ]
  },
  {
   "cell_type": "markdown",
   "metadata": {},
   "source": [
    "# Modules\n",
    "Some of these modules we may not have covered yet.  We'll talk about and try them all.  They're all part of `Anaconda`.\n",
    "\n",
    "It's typical to first import all you'll need.\n",
    "\n",
    "```python\n",
    "import pandas as pd\n",
    "import numpy as np\n",
    "from sklearn import preprocessing\n",
    "import matplotlib.pyplot as plt \n",
    "\n",
    "from sklearn.linear_model import LogisticRegression\n",
    "from sklearn.model_selection import train_test_split\n",
    "import seaborn as sns\n",
    "\n",
    "# set some basic styles\n",
    "plt.rc(\"font\", size=14)\n",
    "sns.set(style=\"white\")\n",
    "sns.set(style=\"whitegrid\", color_codes=True)\n",
    "```\n",
    "\n",
    "In the above, you're familiar with pandas and numpy for sure.  \n",
    "* sklearn is the scikit-learn package. A huge machine learning library of routines.  We do not want to import all of sklearn.  It's too big.\n",
    "* seaborn and matplotlib are graphing packages.  Plotly is another common one.\n",
    "\n",
    "This is kind of *boilerplate* but get used to that - copy and paste it into the next cell.\n"
   ]
  },
  {
   "cell_type": "code",
   "execution_count": 25,
   "metadata": {},
   "outputs": [],
   "source": [
    "# Setup\n",
    "\n",
    "### \n",
    "import pandas as pd\n",
    "import numpy as np\n",
    "from sklearn import preprocessing\n",
    "import matplotlib.pyplot as plt \n",
    "\n",
    "from sklearn.linear_model import LogisticRegression\n",
    "from sklearn.model_selection import train_test_split\n",
    "import seaborn as sns\n",
    "\n",
    "# set some basic styles\n",
    "plt.rc(\"font\", size=14)\n",
    "sns.set(style=\"white\")\n",
    "sns.set(style=\"whitegrid\", color_codes=True)"
   ]
  },
  {
   "cell_type": "markdown",
   "metadata": {},
   "source": [
    "\n",
    "Load the data from the pickle."
   ]
  },
  {
   "cell_type": "code",
   "execution_count": 26,
   "metadata": {},
   "outputs": [],
   "source": [
    "bankdata = pd.read_pickle('banking_data_ready.pkl')\n"
   ]
  },
  {
   "cell_type": "markdown",
   "metadata": {},
   "source": [
    "# Split the data into training and test sets\n",
    "\n",
    "The iloc method on a df takes it and slices it by column and row **Numbers** - not names, which is useful if you want to carve out for example the first column.\n",
    "\n",
    "Then we can split our data using the train_test_split function from scikit.  This by default gives us an 80 / 20 split between training and test data.\n",
    "\n",
    "The random state can be used to make this deterministic - so that we get the same result every time we run our JN.\n",
    "\n"
   ]
  },
  {
   "cell_type": "code",
   "execution_count": 27,
   "metadata": {},
   "outputs": [],
   "source": [
    "X = bankdata.iloc[:,1:]\n",
    "y = bankdata.iloc[:,0]\n",
    "X_train, X_test, y_train, y_test = train_test_split(X, y, random_state=0)\n"
   ]
  },
  {
   "cell_type": "markdown",
   "metadata": {},
   "source": [
    "Check out the shapes of the training data(X) and test result(y).\n"
   ]
  },
  {
   "cell_type": "code",
   "execution_count": 29,
   "metadata": {},
   "outputs": [
    {
     "name": "stdout",
     "output_type": "stream",
     "text": [
      "(30891, 31) (10297,)\n"
     ]
    }
   ],
   "source": [
    "print( X_train.shape, y_test.shape)\n"
   ]
  },
  {
   "cell_type": "markdown",
   "metadata": {},
   "source": [
    "\n",
    "Great! Now we can start building our logistic regression model.\n"
   ]
  },
  {
   "cell_type": "markdown",
   "metadata": {},
   "source": [
    "# Logistic Regression Model\n",
    "\n",
    "Fit logistic regression to the training set.  There are a lot of different solvers that the system can use.  the random_state is used to initialize the theta weights to random values.\n",
    "\n",
    "The built model is stored in a \"classifier\" object, which can then be used to test and run predictions!\n"
   ]
  },
  {
   "cell_type": "code",
   "execution_count": 66,
   "metadata": {},
   "outputs": [
    {
     "data": {
      "text/plain": [
       "LogisticRegression(C=1.0, class_weight=None, dual=False, fit_intercept=True,\n",
       "                   intercept_scaling=1, l1_ratio=None, max_iter=1000,\n",
       "                   multi_class='warn', n_jobs=None, penalty='l2',\n",
       "                   random_state=0, solver='liblinear', tol=0.0001, verbose=0,\n",
       "                   warm_start=False)"
      ]
     },
     "execution_count": 66,
     "metadata": {},
     "output_type": "execute_result"
    }
   ],
   "source": [
    "classifier = LogisticRegression(random_state=0, solver='liblinear', max_iter=1000)\n",
    "classifier.fit(X_train, y_train)"
   ]
  },
  {
   "cell_type": "markdown",
   "metadata": {},
   "source": [
    "# Predicting the test set results and creating confusion matrix\n",
    "\n",
    "What we're going to do is run the X_test set through the prediction routine, to get predictions for each of those cases.\n",
    "\n",
    "How often are we right?  How often are we wrong?\n",
    "\n",
    "There are four cases:\n",
    "* we predicted a sale, and got a sale (a true positive)\n",
    "* we predicted a sale, but there really was no sale (a false positive)\n",
    "* we predicted no sale, and there was no sale (a true negative)\n",
    "* we predicted no sale, but there was a sale. (a false negative).\n",
    "\n",
    "The `confusion_matrix()` function will calculate all of those for us.  But it doesn't really label them at all.  This data is binary.  The indices are 0,1, so the top right corner are the true negatives, and the bottom left corner are the true positives.\n",
    "\n",
    "You can see by the confusion matrix that the false positives are pretty high!  We predict there will be a sale most of the time, when there's not.\n",
    "\n"
   ]
  },
  {
   "cell_type": "code",
   "execution_count": 65,
   "metadata": {},
   "outputs": [
    {
     "name": "stdout",
     "output_type": "stream",
     "text": [
      "[[9060   96]\n",
      " [ 929  212]]\n",
      "1025\n"
     ]
    }
   ],
   "source": [
    "y_pred = classifier.predict(X_test)\n",
    "from sklearn.metrics import confusion_matrix\n",
    "confusion_result  = confusion_matrix(y_test, y_pred)\n",
    "print(confusion_result)\n",
    "\n",
    "# Print out whhere they don't match... you can see that this sums to the diagonal.\n",
    "print((y_test != y_pred).sum())\n",
    "\n"
   ]
  },
  {
   "cell_type": "markdown",
   "metadata": {},
   "source": [
    "# Accuracy\n",
    "\n",
    "The accuracy of our model is a rough indication of how good it is.\n",
    "\n",
    "* How often can we get a correct result? (The overall accuracy)\n",
    "* If we predict a success, what's the likelihood we are right?  This is the precision.  It's the ratio of being actually right (true positives) / the total we are actually right (true positives) with when we are incorrectly right (false positives).\n",
    "\n",
    "If the precision is 1, when we say it's positive, it really is positive!\n",
    "\n",
    "But the precision of our model we can compute:\n",
    "\n",
    "` our_precision = 212 / (212 + 929) `"
   ]
  },
  {
   "cell_type": "code",
   "execution_count": 62,
   "metadata": {},
   "outputs": [
    {
     "name": "stdout",
     "output_type": "stream",
     "text": [
      "Accuracy of logistic regression classifier on test set: 0.90\n",
      "Our precision sucks: 0.19\n"
     ]
    }
   ],
   "source": [
    "print('Accuracy of logistic regression classifier on test set: {:.2f}'.format(classifier.score(X_test, y_test)))\n",
    "print(f\"Our precision sucks: {212 / (212 + 929):0.2f}\")"
   ]
  },
  {
   "cell_type": "markdown",
   "metadata": {},
   "source": [
    "# Compute precision, recall, F-measure and support\n",
    "\n",
    "To quote from Scikit Learn:\n",
    "\n",
    "The precision is the ratio tp / (tp + fp) where tp is the number of true positives and fp the number of false positives. The precision is intuitively the ability of the classifier to not label a sample as positive if it is negative.\n",
    "\n",
    "The recall is the ratio tp / (tp + fn) where tp is the number of true positives and fn the number of false negatives. The recall is intuitively the ability of the classifier to find all the positive samples.\n",
    "\n",
    "The F-beta score can be interpreted as a weighted harmonic mean of the precision and recall, where an F-beta score reaches its best value at 1 and worst score at 0.\n",
    "\n",
    "The F-beta score weights the recall more than the precision by a factor of beta. beta = 1.0 means recall and precision are equally important.\n",
    "\n",
    "The support is the number of occurrences of each class in y_test.\n",
    "\n"
   ]
  },
  {
   "cell_type": "code",
   "execution_count": 49,
   "metadata": {},
   "outputs": [
    {
     "name": "stdout",
     "output_type": "stream",
     "text": [
      "              precision    recall  f1-score   support\n",
      "\n",
      "           0       0.99      0.91      0.95      9989\n",
      "           1       0.19      0.69      0.29       308\n",
      "\n",
      "    accuracy                           0.90     10297\n",
      "   macro avg       0.59      0.80      0.62     10297\n",
      "weighted avg       0.97      0.90      0.93     10297\n",
      "\n"
     ]
    }
   ],
   "source": [
    "from sklearn.metrics import classification_report\n",
    "print(classification_report(y_pred, y_test))"
   ]
  },
  {
   "cell_type": "markdown",
   "metadata": {},
   "source": [
    "Interpretation: Because most people don't buy contracts, it's no surprise that the precision is so low.  But it does help *some*.  What this tells you is which prospects might be worth a little more effort to get them to buy since they might be more likely to buy based on the prediction.  You wouldn't want to spend as much time on a prospect not as liekly to buy. \n",
    "\n",
    "But the model isn't so accurate that you'd avoid calling them... You'd call them anyway.  Because you'd miss 4/5 of your sales if you didn't.\n",
    "\n"
   ]
  },
  {
   "cell_type": "markdown",
   "metadata": {},
   "source": [
    "# Making a prediction\n",
    "\n",
    "In our bankdata we have these columns:\n",
    "\n",
    "'single', 'summer', 'previous', \n",
    "'job_admin.', 'job_blue-collar', 'job_entrepreneur', 'job_housemaid', 'job_management', 'job_retired', 'job_self-employed', 'job_services', 'job_student', 'job_technician', 'job_unemployed', 'job_unknown', \n",
    "'education_basic.4y', 'education_basic.6y', 'education_basic.9y', 'education_high.school',\n",
    "'education_illiterate', 'education_professional.course',\n",
    "'education_university.degree', 'education_unknown', \n",
    "'default_no', 'default_unknown', 'default_yes', \n",
    "'contact_cellular', 'contact_telephone', \n",
    "'poutcome_failure', 'poutcome_nonexistent', 'poutcome_success']\n",
    "\n",
    "And that's a lot of values to build, but we can do it.\n",
    "\n",
    "If we have a single person, interviewed in the summer, with no previous calls, who works in adin, that is 4 years of education, never defaulted on a loan, contacted via cell, with no previous outcome....\n",
    "\n",
    "It looks like this:\n",
    "```\n",
    " [1, 1, 0, \n",
    "  1, 0, 0, 0, 0,\n",
    "  0, 0, 0, 0, 0,\n",
    "  0, 0,\n",
    "  1, 0, 0, 0,\n",
    "  0, 0,\n",
    "  0, 0,\n",
    "  1, 0, 0,\n",
    "  1, 0, \n",
    "  0, 1, 0 ]\n",
    "```\n",
    "\n",
    "We can run a prediction...  \n",
    "\n",
    "By passing that customer through the predict_proba function you can see the estimated probabilities of each result.\n",
    "\n",
    "Note that you have to pass it a set of inputs - not just one input. A list of lists, if you will.\n",
    "\n",
    " \n",
    "\n",
    "       "
   ]
  },
  {
   "cell_type": "code",
   "execution_count": 79,
   "metadata": {},
   "outputs": [
    {
     "name": "stdout",
     "output_type": "stream",
     "text": [
      "31 31 Checking that number of values match\n",
      "Probability of failure / success is:  [[0.87803932 0.12196068]]\n",
      "This customer will likely  not  buy.\n"
     ]
    }
   ],
   "source": [
    "somecustomer =  [1, 1, 0, \n",
    "  1, 0, 0, 0, 0,\n",
    "  0, 0, 0, 0, 0,\n",
    "  0, 0,\n",
    "  1, 0, 0, 0,\n",
    "  0, 0,\n",
    "  0, 0,\n",
    "  1, 0, 0,\n",
    "  1, 0, \n",
    "  0, 1, 0 ]\n",
    "\n",
    "# do they have the same number of features?\n",
    "print(len(somecustomer), len(X_train.columns), \"Checking that number of values match\")\n",
    "\n",
    "print(\"Probability of failure / success is: \", classifier.predict_proba([somecustomer]))\n",
    "print(\"This customer will likely \", \n",
    "    ('not' if 0 == classifier.predict([somecustomer]) else ''), \" buy.\")"
   ]
  },
  {
   "cell_type": "markdown",
   "metadata": {},
   "source": [
    "# Advanced\n",
    "\n",
    "The ROC curve is a useful way to display how good a model is.  It works by slowly shifting the threshold where we would choose \"yes\" by the probability result above... from probablilty 0.0 up to 1.0.  And it computes the ratio between the false positive rate and the true positive rate for all those values.  If you set the threshhold at 0, you'll DEFINTELY get a ton of false positives!  \n",
    "\n",
    "You can't see the threshhold values in there.  But the curve allows you to intelligently trade off precision for recall when the consequences of a false positive may outweigh the consequences of a false negative.  E.G. whether or not there is a swarm of aircraft about to bomb you (read about the history of these curves).\n",
    "\n",
    "Read about what they mean, and how to use them.\n",
    "\n",
    "What does this ROC curve say about the model?\n",
    "\n"
   ]
  },
  {
   "cell_type": "code",
   "execution_count": 52,
   "metadata": {},
   "outputs": [
    {
     "data": {
      "image/png": "[encoded data removed]",
      "text/plain": [
       "<Figure size 432x288 with 1 Axes>"
      ]
     },
     "metadata": {},
     "output_type": "display_data"
    }
   ],
   "source": [
    "from sklearn.metrics import roc_auc_score\n",
    "from sklearn.metrics import roc_curve\n",
    "logit_roc_auc = roc_auc_score(y_test, classifier.predict(X_test))\n",
    "fpr, tpr, thresholds = roc_curve(y_test, classifier.predict_proba(X_test)[:,1])\n",
    "plt.figure()\n",
    "plt.plot(fpr, tpr, label='Logistic Regression (area = %0.2f)' % logit_roc_auc)\n",
    "plt.plot([0, 1], [0, 1],'r--')\n",
    "plt.xlim([0.0, 1.0])\n",
    "plt.ylim([0.0, 1.05])\n",
    "plt.xlabel('False Positive Rate')\n",
    "plt.ylabel('True Positive Rate')\n",
    "plt.title('Receiver operating characteristic')\n",
    "plt.legend(loc=\"lower right\")\n",
    "plt.savefig('Log_ROC')\n",
    "plt.show()"
   ]
  },
  {
   "cell_type": "code",
   "execution_count": null,
   "metadata": {},
   "outputs": [],
   "source": []
  }
 ],
 "metadata": {
  "kernelspec": {
   "display_name": "Python 3",
   "language": "python",
   "name": "python3"
  },
  "language_info": {
   "codemirror_mode": {
    "name": "ipython",
    "version": 3
   },
   "file_extension": ".py",
   "mimetype": "text/x-python",
   "name": "python",
   "nbconvert_exporter": "python",
   "pygments_lexer": "ipython3",
   "version": "3.7.5"
  }
 },
 "nbformat": 4,
 "nbformat_minor": 2
}
